{
 "cells": [
  {
   "cell_type": "markdown",
   "metadata": {},
   "source": [
    "## Machine Learning model with Apache Spark and Python"
   ]
  },
  {
   "cell_type": "markdown",
   "metadata": {},
   "source": [
    "We will build a machine learning model with Apache Spark and Python, to predict whether a person has diabetes or not.\n",
    "\n",
    "The workflow will be:\n",
    "\n",
    "- Installing and creating Apache Spark.\n",
    "- Data Exploration.\n",
    "- Data preparation\n",
    "- Training and Evaluating the Machine Learning Model"
   ]
  },
  {
   "cell_type": "code",
   "execution_count": 1,
   "metadata": {},
   "outputs": [],
   "source": [
    "# Import necessary packages\n",
    "import pyspark\n",
    "from pyspark.sql import SparkSession\n",
    "from pyspark.ml.feature import StringIndexer\n",
    "from pyspark.sql.functions import isnull, when, count, col\n",
    "from pyspark.ml.classification import RandomForestClassifier, LogisticRegression\n",
    "from pyspark.ml.evaluation import MulticlassClassificationEvaluator\n",
    "from pyspark.ml.feature import VectorAssembler\n",
    "import warnings\n",
    "\n",
    "def fxn():\n",
    "    warnings.warn(\"deprecated\", DeprecationWarning)\n",
    "\n",
    "with warnings.catch_warnings():\n",
    "    warnings.simplefilter(\"ignore\")\n",
    "    fxn()"
   ]
  },
  {
   "cell_type": "markdown",
   "metadata": {},
   "source": [
    "# Installing and creating spark session"
   ]
  },
  {
   "cell_type": "code",
   "execution_count": 2,
   "metadata": {},
   "outputs": [
    {
     "name": "stderr",
     "output_type": "stream",
     "text": [
      "WARNING: An illegal reflective access operation has occurred\n",
      "WARNING: Illegal reflective access by org.apache.spark.unsafe.Platform (file:/Library/Frameworks/Python.framework/Versions/3.9/lib/python3.9/site-packages/pyspark/jars/spark-unsafe_2.12-3.2.0.jar) to constructor java.nio.DirectByteBuffer(long,int)\n",
      "WARNING: Please consider reporting this to the maintainers of org.apache.spark.unsafe.Platform\n",
      "WARNING: Use --illegal-access=warn to enable warnings of further illegal reflective access operations\n",
      "WARNING: All illegal access operations will be denied in a future release\n",
      "Using Spark's default log4j profile: org/apache/spark/log4j-defaults.properties\n",
      "Setting default log level to \"WARN\".\n",
      "To adjust logging level use sc.setLogLevel(newLevel). For SparkR, use setLogLevel(newLevel).\n",
      "22/01/14 10:02:12 WARN NativeCodeLoader: Unable to load native-hadoop library for your platform... using builtin-java classes where applicable\n"
     ]
    }
   ],
   "source": [
    "# Create Spark session\n",
    "spark = SparkSession \\\n",
    "    .builder \\\n",
    "    .appName('spark session') \\\n",
    "    .getOrCreate()"
   ]
  },
  {
   "cell_type": "code",
   "execution_count": 3,
   "metadata": {},
   "outputs": [
    {
     "data": {
      "text/html": [
       "\n",
       "            <div>\n",
       "                <p><b>SparkSession - in-memory</b></p>\n",
       "                \n",
       "        <div>\n",
       "            <p><b>SparkContext</b></p>\n",
       "\n",
       "            <p><a href=\"http://172.17.100.11:4040\">Spark UI</a></p>\n",
       "\n",
       "            <dl>\n",
       "              <dt>Version</dt>\n",
       "                <dd><code>v3.2.0</code></dd>\n",
       "              <dt>Master</dt>\n",
       "                <dd><code>local[*]</code></dd>\n",
       "              <dt>AppName</dt>\n",
       "                <dd><code>spark session</code></dd>\n",
       "            </dl>\n",
       "        </div>\n",
       "        \n",
       "            </div>\n",
       "        "
      ],
      "text/plain": [
       "<pyspark.sql.session.SparkSession at 0x7facf0c22070>"
      ]
     },
     "execution_count": 3,
     "metadata": {},
     "output_type": "execute_result"
    }
   ],
   "source": [
    "spark"
   ]
  },
  {
   "cell_type": "markdown",
   "metadata": {},
   "source": [
    "# 2. Data description"
   ]
  },
  {
   "cell_type": "markdown",
   "metadata": {},
   "source": [
    "Pregnancies: Number of times pregnant.\n",
    "\n",
    "Glucose: Plasma glucose concentration.\n",
    "\n",
    "BloodPressure: (mm Hg).\n",
    "\n",
    "SkinThickness: Triceps skin fold thickness (mm).\n",
    "\n",
    "Insulin: (mu U/ml).\n",
    "\n",
    "BMI: Body mass index (weight in kg/(height in m)2).\n",
    "\n",
    "DiabetesPedigreeFunction: Diabetes pedigree function (a function which scores likelihood of diabetes based on family history).\n",
    "\n",
    "Age: Age (years).\n",
    "\n",
    "Outcome: Class variable (0 if non-diabetic, 1 if diabetic).\n"
   ]
  },
  {
   "cell_type": "code",
   "execution_count": 4,
   "metadata": {},
   "outputs": [],
   "source": [
    "# read the csv file\n",
    "df = (spark.read\n",
    "          .format(\"csv\")\n",
    "          .option('header', 'true')\n",
    "          .option(\"inferSchema\",\"true\")\n",
    "          .load(\"data_diab.csv\"))"
   ]
  },
  {
   "cell_type": "code",
   "execution_count": 5,
   "metadata": {},
   "outputs": [
    {
     "name": "stdout",
     "output_type": "stream",
     "text": [
      "+---+---------+-----------+-------------+----------------------+----------------+------------+-----------+----------------+---+--------+\n",
      "|_c0|PatientID|Pregnancies|PlasmaGlucose|DiastolicBloodPressure|TricepsThickness|SerumInsulin|        BMI|DiabetesPedigree|Age|Diabetic|\n",
      "+---+---------+-----------+-------------+----------------------+----------------+------------+-----------+----------------+---+--------+\n",
      "|  0|  1354778|          0|          171|                    80|              34|          23|43.50972593|     1.213191354| 21|       0|\n",
      "|  1|  1147438|          8|           92|                    93|              47|          36|21.24057571|     0.158364981| 23|       0|\n",
      "|  2|  1640031|          7|          115|                    47|              52|          35|41.51152348|     0.079018568| 23|       0|\n",
      "|  3|  1883350|          9|          103|                    78|              25|         304|29.58219193|     1.282869847| 43|       1|\n",
      "|  4|  1424119|          1|           85|                    59|              27|          35|42.60453585|     0.549541871| 22|       0|\n",
      "|  5|  1619297|          0|           82|                    92|               9|         253|19.72416021|     0.103424498| 26|       0|\n",
      "|  6|  1660149|          0|          133|                    47|              19|         227|21.94135672|     0.174159779| 21|       0|\n",
      "|  7|  1458769|          0|           67|                    87|              43|          36| 18.2777226|      0.23616494| 26|       0|\n",
      "|  8|  1201647|          8|           80|                    95|              33|          24|26.62492885|     0.443947388| 53|       1|\n",
      "|  9|  1403912|          1|           72|                    31|              40|          42|36.88957571|     0.103943637| 26|       0|\n",
      "+---+---------+-----------+-------------+----------------------+----------------+------------+-----------+----------------+---+--------+\n",
      "only showing top 10 rows\n",
      "\n"
     ]
    },
    {
     "name": "stderr",
     "output_type": "stream",
     "text": [
      "22/01/14 10:02:20 WARN CSVHeaderChecker: CSV header does not conform to the schema.\n",
      " Header: , PatientID, Pregnancies, PlasmaGlucose, DiastolicBloodPressure, TricepsThickness, SerumInsulin, BMI, DiabetesPedigree, Age, Diabetic\n",
      " Schema: _c0, PatientID, Pregnancies, PlasmaGlucose, DiastolicBloodPressure, TricepsThickness, SerumInsulin, BMI, DiabetesPedigree, Age, Diabetic\n",
      "Expected: _c0 but found: \n",
      "CSV file: file:///Users/nesrine.rabhi/Desktop/Workdir/Lecture2/data_diab.csv\n"
     ]
    }
   ],
   "source": [
    "# print out the first five rows\n",
    "df.show(10)"
   ]
  },
  {
   "cell_type": "code",
   "execution_count": 6,
   "metadata": {},
   "outputs": [
    {
     "name": "stderr",
     "output_type": "stream",
     "text": [
      "22/01/14 10:02:21 WARN CSVHeaderChecker: CSV header does not conform to the schema.\n",
      " Header: , PatientID, Pregnancies, PlasmaGlucose, DiastolicBloodPressure, TricepsThickness, SerumInsulin, BMI, DiabetesPedigree, Age, Diabetic\n",
      " Schema: _c0, PatientID, Pregnancies, PlasmaGlucose, DiastolicBloodPressure, TricepsThickness, SerumInsulin, BMI, DiabetesPedigree, Age, Diabetic\n",
      "Expected: _c0 but found: \n",
      "CSV file: file:///Users/nesrine.rabhi/Desktop/Workdir/Lecture2/data_diab.csv\n"
     ]
    },
    {
     "data": {
      "text/html": [
       "<div>\n",
       "<style scoped>\n",
       "    .dataframe tbody tr th:only-of-type {\n",
       "        vertical-align: middle;\n",
       "    }\n",
       "\n",
       "    .dataframe tbody tr th {\n",
       "        vertical-align: top;\n",
       "    }\n",
       "\n",
       "    .dataframe thead th {\n",
       "        text-align: right;\n",
       "    }\n",
       "</style>\n",
       "<table border=\"1\" class=\"dataframe\">\n",
       "  <thead>\n",
       "    <tr style=\"text-align: right;\">\n",
       "      <th></th>\n",
       "      <th>_c0</th>\n",
       "      <th>PatientID</th>\n",
       "      <th>Pregnancies</th>\n",
       "      <th>PlasmaGlucose</th>\n",
       "      <th>DiastolicBloodPressure</th>\n",
       "      <th>TricepsThickness</th>\n",
       "      <th>SerumInsulin</th>\n",
       "      <th>BMI</th>\n",
       "      <th>DiabetesPedigree</th>\n",
       "      <th>Age</th>\n",
       "      <th>Diabetic</th>\n",
       "    </tr>\n",
       "  </thead>\n",
       "  <tbody>\n",
       "    <tr>\n",
       "      <th>0</th>\n",
       "      <td>0</td>\n",
       "      <td>1354778</td>\n",
       "      <td>0</td>\n",
       "      <td>171</td>\n",
       "      <td>80</td>\n",
       "      <td>34</td>\n",
       "      <td>23</td>\n",
       "      <td>43.509726</td>\n",
       "      <td>1.213191</td>\n",
       "      <td>21</td>\n",
       "      <td>0</td>\n",
       "    </tr>\n",
       "    <tr>\n",
       "      <th>1</th>\n",
       "      <td>1</td>\n",
       "      <td>1147438</td>\n",
       "      <td>8</td>\n",
       "      <td>92</td>\n",
       "      <td>93</td>\n",
       "      <td>47</td>\n",
       "      <td>36</td>\n",
       "      <td>21.240576</td>\n",
       "      <td>0.158365</td>\n",
       "      <td>23</td>\n",
       "      <td>0</td>\n",
       "    </tr>\n",
       "    <tr>\n",
       "      <th>2</th>\n",
       "      <td>2</td>\n",
       "      <td>1640031</td>\n",
       "      <td>7</td>\n",
       "      <td>115</td>\n",
       "      <td>47</td>\n",
       "      <td>52</td>\n",
       "      <td>35</td>\n",
       "      <td>41.511523</td>\n",
       "      <td>0.079019</td>\n",
       "      <td>23</td>\n",
       "      <td>0</td>\n",
       "    </tr>\n",
       "    <tr>\n",
       "      <th>3</th>\n",
       "      <td>3</td>\n",
       "      <td>1883350</td>\n",
       "      <td>9</td>\n",
       "      <td>103</td>\n",
       "      <td>78</td>\n",
       "      <td>25</td>\n",
       "      <td>304</td>\n",
       "      <td>29.582192</td>\n",
       "      <td>1.282870</td>\n",
       "      <td>43</td>\n",
       "      <td>1</td>\n",
       "    </tr>\n",
       "    <tr>\n",
       "      <th>4</th>\n",
       "      <td>4</td>\n",
       "      <td>1424119</td>\n",
       "      <td>1</td>\n",
       "      <td>85</td>\n",
       "      <td>59</td>\n",
       "      <td>27</td>\n",
       "      <td>35</td>\n",
       "      <td>42.604536</td>\n",
       "      <td>0.549542</td>\n",
       "      <td>22</td>\n",
       "      <td>0</td>\n",
       "    </tr>\n",
       "    <tr>\n",
       "      <th>...</th>\n",
       "      <td>...</td>\n",
       "      <td>...</td>\n",
       "      <td>...</td>\n",
       "      <td>...</td>\n",
       "      <td>...</td>\n",
       "      <td>...</td>\n",
       "      <td>...</td>\n",
       "      <td>...</td>\n",
       "      <td>...</td>\n",
       "      <td>...</td>\n",
       "      <td>...</td>\n",
       "    </tr>\n",
       "    <tr>\n",
       "      <th>14995</th>\n",
       "      <td>14995</td>\n",
       "      <td>1490300</td>\n",
       "      <td>10</td>\n",
       "      <td>65</td>\n",
       "      <td>60</td>\n",
       "      <td>46</td>\n",
       "      <td>177</td>\n",
       "      <td>33.512468</td>\n",
       "      <td>0.148327</td>\n",
       "      <td>41</td>\n",
       "      <td>1</td>\n",
       "    </tr>\n",
       "    <tr>\n",
       "      <th>14996</th>\n",
       "      <td>14996</td>\n",
       "      <td>1744410</td>\n",
       "      <td>2</td>\n",
       "      <td>73</td>\n",
       "      <td>66</td>\n",
       "      <td>27</td>\n",
       "      <td>168</td>\n",
       "      <td>30.132636</td>\n",
       "      <td>0.862252</td>\n",
       "      <td>38</td>\n",
       "      <td>1</td>\n",
       "    </tr>\n",
       "    <tr>\n",
       "      <th>14997</th>\n",
       "      <td>14997</td>\n",
       "      <td>1742742</td>\n",
       "      <td>0</td>\n",
       "      <td>93</td>\n",
       "      <td>89</td>\n",
       "      <td>43</td>\n",
       "      <td>57</td>\n",
       "      <td>18.690683</td>\n",
       "      <td>0.427049</td>\n",
       "      <td>24</td>\n",
       "      <td>0</td>\n",
       "    </tr>\n",
       "    <tr>\n",
       "      <th>14998</th>\n",
       "      <td>14998</td>\n",
       "      <td>1099353</td>\n",
       "      <td>0</td>\n",
       "      <td>132</td>\n",
       "      <td>98</td>\n",
       "      <td>18</td>\n",
       "      <td>161</td>\n",
       "      <td>19.791645</td>\n",
       "      <td>0.302257</td>\n",
       "      <td>23</td>\n",
       "      <td>0</td>\n",
       "    </tr>\n",
       "    <tr>\n",
       "      <th>14999</th>\n",
       "      <td>14999</td>\n",
       "      <td>1386396</td>\n",
       "      <td>3</td>\n",
       "      <td>114</td>\n",
       "      <td>65</td>\n",
       "      <td>47</td>\n",
       "      <td>512</td>\n",
       "      <td>36.215437</td>\n",
       "      <td>0.147363</td>\n",
       "      <td>34</td>\n",
       "      <td>1</td>\n",
       "    </tr>\n",
       "  </tbody>\n",
       "</table>\n",
       "<p>15000 rows × 11 columns</p>\n",
       "</div>"
      ],
      "text/plain": [
       "         _c0  PatientID  Pregnancies  PlasmaGlucose  DiastolicBloodPressure  \\\n",
       "0          0    1354778            0            171                      80   \n",
       "1          1    1147438            8             92                      93   \n",
       "2          2    1640031            7            115                      47   \n",
       "3          3    1883350            9            103                      78   \n",
       "4          4    1424119            1             85                      59   \n",
       "...      ...        ...          ...            ...                     ...   \n",
       "14995  14995    1490300           10             65                      60   \n",
       "14996  14996    1744410            2             73                      66   \n",
       "14997  14997    1742742            0             93                      89   \n",
       "14998  14998    1099353            0            132                      98   \n",
       "14999  14999    1386396            3            114                      65   \n",
       "\n",
       "       TricepsThickness  SerumInsulin        BMI  DiabetesPedigree  Age  \\\n",
       "0                    34            23  43.509726          1.213191   21   \n",
       "1                    47            36  21.240576          0.158365   23   \n",
       "2                    52            35  41.511523          0.079019   23   \n",
       "3                    25           304  29.582192          1.282870   43   \n",
       "4                    27            35  42.604536          0.549542   22   \n",
       "...                 ...           ...        ...               ...  ...   \n",
       "14995                46           177  33.512468          0.148327   41   \n",
       "14996                27           168  30.132636          0.862252   38   \n",
       "14997                43            57  18.690683          0.427049   24   \n",
       "14998                18           161  19.791645          0.302257   23   \n",
       "14999                47           512  36.215437          0.147363   34   \n",
       "\n",
       "       Diabetic  \n",
       "0             0  \n",
       "1             0  \n",
       "2             0  \n",
       "3             1  \n",
       "4             0  \n",
       "...         ...  \n",
       "14995         1  \n",
       "14996         1  \n",
       "14997         0  \n",
       "14998         0  \n",
       "14999         1  \n",
       "\n",
       "[15000 rows x 11 columns]"
      ]
     },
     "execution_count": 6,
     "metadata": {},
     "output_type": "execute_result"
    }
   ],
   "source": [
    "# Return the contents of this DataFrame as Pandas\n",
    "df.toPandas()"
   ]
  },
  {
   "cell_type": "code",
   "execution_count": 7,
   "metadata": {},
   "outputs": [
    {
     "name": "stdout",
     "output_type": "stream",
     "text": [
      "The dataset has 15000 data point and 10 columns:\n",
      " ['PatientID', 'Pregnancies', 'PlasmaGlucose', 'DiastolicBloodPressure', 'TricepsThickness', 'SerumInsulin', 'BMI', 'DiabetesPedigree', 'Age', 'Diabetic']\n"
     ]
    }
   ],
   "source": [
    "df = df.drop('_c0')\n",
    "\n",
    "#print out the dataset \n",
    "print(\"The dataset has\", df.count(), \"data point\", \"and\", len(df.columns), \"columns:\\n\",df.columns)\n"
   ]
  },
  {
   "cell_type": "markdown",
   "metadata": {},
   "source": [
    "# Data Exploration"
   ]
  },
  {
   "cell_type": "code",
   "execution_count": 8,
   "metadata": {},
   "outputs": [
    {
     "data": {
      "text/plain": [
       "[('PatientID', 'int'),\n",
       " ('Pregnancies', 'int'),\n",
       " ('PlasmaGlucose', 'int'),\n",
       " ('DiastolicBloodPressure', 'int'),\n",
       " ('TricepsThickness', 'int'),\n",
       " ('SerumInsulin', 'int'),\n",
       " ('BMI', 'double'),\n",
       " ('DiabetesPedigree', 'double'),\n",
       " ('Age', 'int'),\n",
       " ('Diabetic', 'int')]"
      ]
     },
     "execution_count": 8,
     "metadata": {},
     "output_type": "execute_result"
    }
   ],
   "source": [
    "df.dtypes"
   ]
  },
  {
   "cell_type": "code",
   "execution_count": 9,
   "metadata": {},
   "outputs": [
    {
     "data": {
      "text/html": [
       "<div>\n",
       "<style scoped>\n",
       "    .dataframe tbody tr th:only-of-type {\n",
       "        vertical-align: middle;\n",
       "    }\n",
       "\n",
       "    .dataframe tbody tr th {\n",
       "        vertical-align: top;\n",
       "    }\n",
       "\n",
       "    .dataframe thead th {\n",
       "        text-align: right;\n",
       "    }\n",
       "</style>\n",
       "<table border=\"1\" class=\"dataframe\">\n",
       "  <thead>\n",
       "    <tr style=\"text-align: right;\">\n",
       "      <th></th>\n",
       "      <th>summary</th>\n",
       "      <th>PatientID</th>\n",
       "      <th>Pregnancies</th>\n",
       "      <th>PlasmaGlucose</th>\n",
       "      <th>DiastolicBloodPressure</th>\n",
       "      <th>TricepsThickness</th>\n",
       "      <th>SerumInsulin</th>\n",
       "      <th>BMI</th>\n",
       "      <th>DiabetesPedigree</th>\n",
       "      <th>Age</th>\n",
       "      <th>Diabetic</th>\n",
       "    </tr>\n",
       "  </thead>\n",
       "  <tbody>\n",
       "    <tr>\n",
       "      <th>0</th>\n",
       "      <td>count</td>\n",
       "      <td>15000</td>\n",
       "      <td>15000</td>\n",
       "      <td>15000</td>\n",
       "      <td>15000</td>\n",
       "      <td>15000</td>\n",
       "      <td>15000</td>\n",
       "      <td>15000</td>\n",
       "      <td>15000</td>\n",
       "      <td>15000</td>\n",
       "      <td>15000</td>\n",
       "    </tr>\n",
       "    <tr>\n",
       "      <th>1</th>\n",
       "      <td>mean</td>\n",
       "      <td>1502922.0028666668</td>\n",
       "      <td>3.2245333333333335</td>\n",
       "      <td>107.85686666666666</td>\n",
       "      <td>71.22066666666667</td>\n",
       "      <td>28.814</td>\n",
       "      <td>137.85213333333334</td>\n",
       "      <td>31.509646041017334</td>\n",
       "      <td>0.3989677489566001</td>\n",
       "      <td>30.137733333333333</td>\n",
       "      <td>0.3333333333333333</td>\n",
       "    </tr>\n",
       "    <tr>\n",
       "      <th>2</th>\n",
       "      <td>stddev</td>\n",
       "      <td>289253.4434711824</td>\n",
       "      <td>3.3910202078566654</td>\n",
       "      <td>31.981974651810688</td>\n",
       "      <td>16.7587160365316</td>\n",
       "      <td>14.55571578192323</td>\n",
       "      <td>133.0682519590133</td>\n",
       "      <td>9.758999734051887</td>\n",
       "      <td>0.3779435321540775</td>\n",
       "      <td>12.089702515888606</td>\n",
       "      <td>0.4714202350607769</td>\n",
       "    </tr>\n",
       "    <tr>\n",
       "      <th>3</th>\n",
       "      <td>min</td>\n",
       "      <td>1000038</td>\n",
       "      <td>0</td>\n",
       "      <td>44</td>\n",
       "      <td>24</td>\n",
       "      <td>7</td>\n",
       "      <td>14</td>\n",
       "      <td>18.20051152</td>\n",
       "      <td>0.078043795</td>\n",
       "      <td>21</td>\n",
       "      <td>0</td>\n",
       "    </tr>\n",
       "    <tr>\n",
       "      <th>4</th>\n",
       "      <td>max</td>\n",
       "      <td>1999997</td>\n",
       "      <td>14</td>\n",
       "      <td>192</td>\n",
       "      <td>117</td>\n",
       "      <td>93</td>\n",
       "      <td>799</td>\n",
       "      <td>56.03462763</td>\n",
       "      <td>2.301594189</td>\n",
       "      <td>77</td>\n",
       "      <td>1</td>\n",
       "    </tr>\n",
       "  </tbody>\n",
       "</table>\n",
       "</div>"
      ],
      "text/plain": [
       "  summary           PatientID         Pregnancies       PlasmaGlucose  \\\n",
       "0   count               15000               15000               15000   \n",
       "1    mean  1502922.0028666668  3.2245333333333335  107.85686666666666   \n",
       "2  stddev   289253.4434711824  3.3910202078566654  31.981974651810688   \n",
       "3     min             1000038                   0                  44   \n",
       "4     max             1999997                  14                 192   \n",
       "\n",
       "  DiastolicBloodPressure   TricepsThickness        SerumInsulin  \\\n",
       "0                  15000              15000               15000   \n",
       "1      71.22066666666667             28.814  137.85213333333334   \n",
       "2       16.7587160365316  14.55571578192323   133.0682519590133   \n",
       "3                     24                  7                  14   \n",
       "4                    117                 93                 799   \n",
       "\n",
       "                  BMI    DiabetesPedigree                 Age  \\\n",
       "0               15000               15000               15000   \n",
       "1  31.509646041017334  0.3989677489566001  30.137733333333333   \n",
       "2   9.758999734051887  0.3779435321540775  12.089702515888606   \n",
       "3         18.20051152         0.078043795                  21   \n",
       "4         56.03462763         2.301594189                  77   \n",
       "\n",
       "             Diabetic  \n",
       "0               15000  \n",
       "1  0.3333333333333333  \n",
       "2  0.4714202350607769  \n",
       "3                   0  \n",
       "4                   1  "
      ]
     },
     "execution_count": 9,
     "metadata": {},
     "output_type": "execute_result"
    }
   ],
   "source": [
    "# Statistics to describe the data\n",
    "df.describe().toPandas()"
   ]
  },
  {
   "cell_type": "code",
   "execution_count": 10,
   "metadata": {},
   "outputs": [
    {
     "name": "stdout",
     "output_type": "stream",
     "text": [
      "+--------+-------------+----------------------+----------------+------------+----+---------+----------------+\n",
      "|Diabetic|PlasmaGlucose|DiastolicBloodPressure|TricepsThickness|SerumInsulin| Age|      BMI|DiabetesPedigree|\n",
      "+--------+-------------+----------------------+----------------+------------+----+---------+----------------+\n",
      "|       0|        171.0|                  80.0|            34.0|        23.0|21.0|43.509727|       1.2131914|\n",
      "|       0|         92.0|                  93.0|            47.0|        36.0|23.0|21.240576|      0.15836498|\n",
      "|       0|        115.0|                  47.0|            52.0|        35.0|23.0|41.511524|      0.07901857|\n",
      "|       1|        103.0|                  78.0|            25.0|       304.0|43.0|29.582191|       1.2828698|\n",
      "|       0|         85.0|                  59.0|            27.0|        35.0|22.0|42.604534|       0.5495419|\n",
      "|       0|         82.0|                  92.0|             9.0|       253.0|26.0|19.724161|       0.1034245|\n",
      "|       0|        133.0|                  47.0|            19.0|       227.0|21.0|21.941357|      0.17415978|\n",
      "|       0|         67.0|                  87.0|            43.0|        36.0|26.0|18.277723|      0.23616494|\n",
      "|       1|         80.0|                  95.0|            33.0|        24.0|53.0| 26.62493|      0.44394737|\n",
      "|       0|         72.0|                  31.0|            40.0|        42.0|26.0|36.889576|      0.10394364|\n",
      "|       0|         88.0|                  86.0|            11.0|        58.0|22.0| 43.22504|      0.23028462|\n",
      "|       0|         94.0|                  96.0|            31.0|        36.0|23.0| 21.29448|      0.25902048|\n",
      "|       1|        114.0|                 101.0|            43.0|        70.0|38.0| 36.49532|     0.079190165|\n",
      "|       0|        110.0|                  82.0|            16.0|        44.0|25.0|36.089294|      0.28127617|\n",
      "|       0|        148.0|                  58.0|            11.0|       179.0|45.0|39.192074|      0.16082901|\n",
      "|       1|        109.0|                  77.0|            46.0|        61.0|21.0|19.847311|      0.20434527|\n",
      "|       1|        106.0|                  64.0|            25.0|        51.0|42.0|29.044573|      0.58918804|\n",
      "|       1|        156.0|                  53.0|            15.0|       226.0|41.0|29.786192|      0.20382352|\n",
      "|       0|        117.0|                  39.0|            32.0|       164.0|25.0|21.230995|      0.08936275|\n",
      "|       1|        102.0|                 100.0|            25.0|       289.0|43.0| 42.18572|      0.17559282|\n",
      "+--------+-------------+----------------------+----------------+------------+----+---------+----------------+\n",
      "only showing top 20 rows\n",
      "\n"
     ]
    }
   ],
   "source": [
    "new_dataset = df.select(col('Diabetic').cast('int'),\n",
    "                         col('PlasmaGlucose').cast('float'),\n",
    "                         col('DiastolicBloodPressure').cast('float'),\n",
    "                         col('TricepsThickness').cast('float'),\n",
    "                         col('SerumInsulin').cast('float'),\n",
    "                         col('Age').cast('float'),\n",
    "                         col('BMI').cast('float'),\n",
    "                         col('DiabetesPedigree').cast('float')\n",
    "                        )\n",
    "new_dataset.show()"
   ]
  },
  {
   "cell_type": "code",
   "execution_count": 11,
   "metadata": {},
   "outputs": [
    {
     "name": "stdout",
     "output_type": "stream",
     "text": [
      "+--------+-------------+----------------------+----------------+------------+---+---+----------------+\n",
      "|Diabetic|PlasmaGlucose|DiastolicBloodPressure|TricepsThickness|SerumInsulin|Age|BMI|DiabetesPedigree|\n",
      "+--------+-------------+----------------------+----------------+------------+---+---+----------------+\n",
      "|       0|            0|                     0|               0|           0|  0|  0|               0|\n",
      "+--------+-------------+----------------------+----------------+------------+---+---+----------------+\n",
      "\n"
     ]
    }
   ],
   "source": [
    "# Count null values\n",
    "new_dataset.select([count(when(isnull(c), c)).alias(c) for c in new_dataset.columns]).show()"
   ]
  },
  {
   "cell_type": "code",
   "execution_count": 12,
   "metadata": {},
   "outputs": [
    {
     "data": {
      "text/plain": [
       "[('Diabetic', 'int'),\n",
       " ('PlasmaGlucose', 'float'),\n",
       " ('DiastolicBloodPressure', 'float'),\n",
       " ('TricepsThickness', 'float'),\n",
       " ('SerumInsulin', 'float'),\n",
       " ('Age', 'float'),\n",
       " ('BMI', 'float'),\n",
       " ('DiabetesPedigree', 'float')]"
      ]
     },
     "execution_count": 12,
     "metadata": {},
     "output_type": "execute_result"
    }
   ],
   "source": [
    "new_dataset.dtypes"
   ]
  },
  {
   "cell_type": "markdown",
   "metadata": {},
   "source": [
    "# Vector Assembler"
   ]
  },
  {
   "cell_type": "code",
   "execution_count": 13,
   "metadata": {},
   "outputs": [
    {
     "data": {
      "text/plain": [
       "DataFrame[Diabetic: int, PlasmaGlucose: float, DiastolicBloodPressure: float, TricepsThickness: float, SerumInsulin: float, Age: float, BMI: float, DiabetesPedigree: float, features: vector]"
      ]
     },
     "execution_count": 13,
     "metadata": {},
     "output_type": "execute_result"
    }
   ],
   "source": [
    "# Assemble all the features with VectorAssembler\n",
    "# This is an additional step required by Spark’s ML models. \n",
    "Features = ['PlasmaGlucose',\n",
    "                    'DiastolicBloodPressure',\n",
    "                    'TricepsThickness',\n",
    "                    'SerumInsulin',\n",
    "                    'Age',\n",
    "                    'BMI',\n",
    "                    'DiabetesPedigree'\n",
    "                   ]\n",
    "\n",
    "VectorAssembler = VectorAssembler(inputCols=Features, outputCol='features')\n",
    "data_transformed = VectorAssembler.transform(new_dataset)\n",
    "data_transformed\n"
   ]
  },
  {
   "cell_type": "code",
   "execution_count": 14,
   "metadata": {},
   "outputs": [],
   "source": [
    "# Splitting data between train and test\n",
    "(training_data, test_data) = data_transformed.randomSplit([0.7,0.3])"
   ]
  },
  {
   "cell_type": "markdown",
   "metadata": {},
   "source": [
    "# Training and Evaluating ML Model"
   ]
  },
  {
   "cell_type": "code",
   "execution_count": 15,
   "metadata": {},
   "outputs": [],
   "source": [
    "# RF with 10 trees\n",
    "RandomF = RandomForestClassifier(labelCol = \"Diabetic\", featuresCol = \"features\", numTrees = 10)"
   ]
  },
  {
   "cell_type": "code",
   "execution_count": 16,
   "metadata": {},
   "outputs": [
    {
     "name": "stderr",
     "output_type": "stream",
     "text": [
      "                                                                                \r"
     ]
    }
   ],
   "source": [
    "RF_model = RandomF.fit(training_data)"
   ]
  },
  {
   "cell_type": "code",
   "execution_count": 17,
   "metadata": {},
   "outputs": [],
   "source": [
    "predictions = RF_model.transform(test_data)"
   ]
  },
  {
   "cell_type": "code",
   "execution_count": 18,
   "metadata": {},
   "outputs": [],
   "source": [
    "# Evaluate our model\n",
    "MulticlassClassificationEvaluator = MulticlassClassificationEvaluator(\n",
    "    labelCol='Diabetic', \n",
    "    predictionCol='prediction', \n",
    "    metricName='accuracy')"
   ]
  },
  {
   "cell_type": "code",
   "execution_count": 19,
   "metadata": {},
   "outputs": [
    {
     "name": "stderr",
     "output_type": "stream",
     "text": [
      "[Stage 31:>                                                         (0 + 1) / 1]\r"
     ]
    },
    {
     "name": "stdout",
     "output_type": "stream",
     "text": [
      "Test Accuracy =  0.8581794195250659\n"
     ]
    },
    {
     "name": "stderr",
     "output_type": "stream",
     "text": [
      "                                                                                \r"
     ]
    }
   ],
   "source": [
    "accuracy = MulticlassClassificationEvaluator.evaluate(predictions)\n",
    "print('Test Accuracy = ', accuracy)\n"
   ]
  },
  {
   "cell_type": "code",
   "execution_count": null,
   "metadata": {},
   "outputs": [],
   "source": []
  }
 ],
 "metadata": {
  "interpreter": {
   "hash": "aee8b7b246df8f9039afb4144a1f6fd8d2ca17a180786b69acc140d282b71a49"
  },
  "kernelspec": {
   "display_name": "Python 3.9.6 64-bit",
   "language": "python",
   "name": "python3"
  },
  "language_info": {
   "codemirror_mode": {
    "name": "ipython",
    "version": 3
   },
   "file_extension": ".py",
   "mimetype": "text/x-python",
   "name": "python",
   "nbconvert_exporter": "python",
   "pygments_lexer": "ipython3",
   "version": "3.9.6"
  },
  "orig_nbformat": 4
 },
 "nbformat": 4,
 "nbformat_minor": 2
}
